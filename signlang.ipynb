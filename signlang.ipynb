{
 "cells": [
  {
   "cell_type": "markdown",
   "metadata": {},
   "source": [
    "SIGN LANGUAGE RECOGNITION"
   ]
  },
  {
   "cell_type": "markdown",
   "metadata": {},
   "source": [
    "Group 7 :\n",
    "\n",
    "Anar Shikhaliyev, Asmar Khalilli, Sabina Abdyeva, Vugar Mammadov\n"
   ]
  },
  {
   "cell_type": "code",
   "execution_count": 2,
   "metadata": {},
   "outputs": [],
   "source": [
    "import numpy as np\n",
    "import matplotlib.pyplot as plt\n",
    "import cv2\n",
    "import tensorflow as tf\n",
    "from tensorflow.keras.preprocessing.image import ImageDataGenerator\n",
    "from tensorflow.keras.models import Sequential, load_model\n",
    "from tensorflow.keras.layers import Dense, Dropout, Flatten, Conv2D, MaxPooling2D\n",
    "from tensorflow.keras.optimizers import Adam"
   ]
  },
  {
   "cell_type": "code",
   "execution_count": 3,
   "metadata": {},
   "outputs": [
    {
     "name": "stdout",
     "output_type": "stream",
     "text": [
      "Found 45500 images belonging to 26 classes.\n",
      "Found 6500 images belonging to 26 classes.\n"
     ]
    }
   ],
   "source": [
    "train_path = './Dataset/train_set'\n",
    "test_path = './Dataset/test_set'\n",
    "classes = 4 # number of classes, 26 in normal case, but we trained on 4 classes \n",
    "img_size = 64 # 64x64 pixels\n",
    "\n",
    "train_batches = ImageDataGenerator (\n",
    "    rescale=1./255,\n",
    "    rotation_range=30,\n",
    "    width_shift_range=0.3,\n",
    "    height_shift_range=0.3,\n",
    "    horizontal_flip=False,\n",
    "    fill_mode='nearest' ).flow_from_directory (\n",
    "        train_path,\n",
    "        target_size=(img_size, img_size),\n",
    "        batch_size=23,\n",
    "        color_mode = 'grayscale',\n",
    "        class_mode='categorical',\n",
    "        shuffle=True )\n",
    "\n",
    "test_batches = ImageDataGenerator(\n",
    "    rescale=1./255 ).flow_from_directory (\n",
    "        test_path,\n",
    "        target_size=(img_size, img_size),\n",
    "        batch_size=32,\n",
    "        color_mode = 'grayscale',\n",
    "        class_mode='categorical',\n",
    "        shuffle=True )"
   ]
  },
  {
   "cell_type": "code",
   "execution_count": null,
   "metadata": {},
   "outputs": [],
   "source": [
    "model = Sequential()\n",
    "\n",
    "# 1st Convolution layer\n",
    "model.add(Conv2D(32, kernel_size=(3,3), activation = 'relu', input_shape=(img_size, img_size ,1) ))\n",
    "# Pooling\n",
    "model.add(MaxPooling2D(pool_size = (2, 2)))\n",
    "\n",
    "# 2nd Convolution layer\n",
    "model.add(Conv2D(64, kernel_size = (3, 3), activation = 'relu'))\n",
    "model.add(MaxPooling2D(pool_size = (2, 2)))\n",
    "\n",
    "# 3rd Convolution layer\n",
    "model.add(Conv2D(64, kernel_size = (3, 3), activation = 'relu'))\n",
    "model.add(MaxPooling2D(pool_size = (2, 2)))\n",
    "\n",
    "# Flattening\n",
    "model.add(Flatten())\n",
    "\n",
    "# Full connected layer\n",
    "model.add(Dense(256, activation = 'relu'))\n",
    "model.add(Dropout(0.50))\n",
    "\n",
    "model.add(Dense(classes, activation = 'softmax'))\n",
    "print(model.summary())"
   ]
  },
  {
   "cell_type": "code",
   "execution_count": null,
   "metadata": {},
   "outputs": [],
   "source": [
    "model.compile (\n",
    "    loss = 'categorical_crossentropy',\n",
    "    optimizer= Adam(learning_rate=0.0005),\n",
    "    metrics=['accuracy'] )"
   ]
  },
  {
   "cell_type": "code",
   "execution_count": null,
   "metadata": {},
   "outputs": [],
   "source": [
    "nb_train_samples = 7000 # 45500 : here we should write the number of training and testing data\n",
    "                                # this numbers are given as the output of the second cell\n",
    "nb_test_samples = 1000 # 6500 \n",
    "epochs = 10\n",
    "batch_size = 32\n",
    "\n",
    "history = model.fit (\n",
    "    train_batches,\n",
    "    steps_per_epoch = nb_train_samples // batch_size,\n",
    "    validation_data = test_batches,\n",
    "    validation_steps = nb_test_samples // batch_size,\n",
    "    epochs = epochs )"
   ]
  },
  {
   "cell_type": "code",
   "execution_count": null,
   "metadata": {},
   "outputs": [],
   "source": [
    "# Graph of accuracies of both train and test datasets\n",
    "plt.title(\"Accuracy\")\n",
    "plt.plot(history.history['accuracy'])\n",
    "plt.plot(history.history['val_accuracy'])\n",
    "plt.xlabel('Number of Epoches')\n",
    "plt.ylabel('Accuracy')\n",
    "plt.legend(['Train data','Test data'])\n",
    "\n",
    "plt.show()"
   ]
  },
  {
   "cell_type": "code",
   "execution_count": null,
   "metadata": {},
   "outputs": [],
   "source": [
    "# Save the model \n",
    "model.save(\"gestures_cnn.h5\")\n",
    "model = load_model('gestures_cnn.h5')"
   ]
  },
  {
   "cell_type": "code",
   "execution_count": null,
   "metadata": {},
   "outputs": [],
   "source": [
    "def getLetter(result):\n",
    "    labels = { \n",
    "        0: 'A',\n",
    "        1: 'B',\n",
    "        2: 'C',\n",
    "        3: 'D',\n",
    "        4: 'E',\n",
    "        5: 'F',\n",
    "        6: 'G',\n",
    "        7: 'H',\n",
    "        8: 'I',\n",
    "        9: 'J',\n",
    "        10: 'K',\n",
    "        11: 'L',\n",
    "        12: 'M',\n",
    "        13: 'N',\n",
    "        14: 'O',\n",
    "        15: 'P',\n",
    "        16: 'Q',\n",
    "        17: 'R',\n",
    "        18: 'S',\n",
    "        19: 'T',\n",
    "        20: 'U',\n",
    "        21: 'V',\n",
    "        22: 'W',\n",
    "        23: 'X',\n",
    "        24: 'Y',\n",
    "        25: 'Z' }\n",
    "    try:\n",
    "        res = int(result)\n",
    "        return labels[res]\n",
    "    except:\n",
    "        return \"Something went wrong :/\""
   ]
  },
  {
   "cell_type": "code",
   "execution_count": null,
   "metadata": {},
   "outputs": [],
   "source": [
    "cap = cv2.VideoCapture(0)\n",
    "\n",
    "while True:\n",
    "\n",
    "    ret, frame = cap.read()\n",
    "    frame = cv2.flip(frame, 1)\n",
    "    frame_copy = frame.copy()\n",
    "\n",
    "    roi = frame[100:300, 350:550]\n",
    "    roi = cv2.cvtColor(roi, cv2.COLOR_BGR2GRAY)\n",
    "    roi = cv2.resize(roi, (img_size, img_size), interpolation = cv2.INTER_AREA)\n",
    "    cv2.imshow('roi - gray', roi)\n",
    "\n",
    "    cv2.rectangle(frame_copy, (350, 100), (550, 300), (255,0,0), 5)\n",
    "    \n",
    "    roi = roi.reshape(1,img_size,img_size,1) \n",
    "\n",
    "    roi = roi/255\n",
    "    result = str(np.argmax(model.predict(roi, 1, verbose = 0)[0]))\n",
    "\n",
    "    cv2.putText(frame_copy, getLetter(result), (300 , 100), cv2.FONT_HERSHEY_COMPLEX, 2, (0, 255, 0), 2)\n",
    "    cv2.imshow('Frame', frame_copy)    \n",
    "    \n",
    "    if cv2.waitKey(1) == 13: # Enter-Key to stop\n",
    "        break\n",
    "        \n",
    "cap.release()\n",
    "cv2.destroyAllWindows() "
   ]
  }
 ],
 "metadata": {
  "interpreter": {
   "hash": "767d51c1340bd893661ea55ea3124f6de3c7a262a8b4abca0554b478b1e2ff90"
  },
  "kernelspec": {
   "display_name": "Python 3.8.10 64-bit",
   "language": "python",
   "name": "python3"
  },
  "language_info": {
   "codemirror_mode": {
    "name": "ipython",
    "version": 3
   },
   "file_extension": ".py",
   "mimetype": "text/x-python",
   "name": "python",
   "nbconvert_exporter": "python",
   "pygments_lexer": "ipython3",
   "version": "3.8.10"
  },
  "orig_nbformat": 4
 },
 "nbformat": 4,
 "nbformat_minor": 2
}
